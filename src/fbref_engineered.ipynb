{
 "cells": [
  {
   "cell_type": "code",
   "execution_count": 1,
   "metadata": {},
   "outputs": [],
   "source": [
    "import pandas as pd\n",
    "import os"
   ]
  },
  {
   "cell_type": "code",
   "execution_count": 2,
   "metadata": {},
   "outputs": [],
   "source": [
    "BASE_DIR = os.path.join('..', 'data')\n",
    "RAW_DIR = os.path.join(BASE_DIR, 'raw')\n",
    "ENGINEERED_DIR = os.path.join(BASE_DIR, 'engineered')"
   ]
  },
  {
   "cell_type": "code",
   "execution_count": 26,
   "metadata": {},
   "outputs": [],
   "source": [
    "PLAYERS_DICT = [\n",
    "        \"advanced goalkeeping\",\n",
    "        \"defensive\",\n",
    "        \"goal and shot creation\",\n",
    "        \"goalkeeping\",\n",
    "        \"misc\",\n",
    "        \"pass types\",\n",
    "        \"passing\",\n",
    "        \"playing time\",\n",
    "        \"possession\",\n",
    "        \"shooting\",\n",
    "        \"standard\",\n",
    "]"
   ]
  },
  {
   "cell_type": "code",
   "execution_count": 27,
   "metadata": {},
   "outputs": [],
   "source": [
    "output_dir = os.path.join(ENGINEERED_DIR, '2023')\n",
    "input_dir_europe = os.path.join(RAW_DIR, '2024')\n",
    "input_dir_south_america = os.path.join(RAW_DIR, '2023')\n",
    "def process_folder(folder_path):\n",
    "    folder_dict = []\n",
    "\n",
    "    for file_name in os.listdir(folder_path):\n",
    "        file_path = os.path.join(folder_path, file_name)\n",
    "        df = pd.read_csv(file_path)\n",
    "\n",
    "        folder_dict.append(df)\n",
    "\n",
    "    return folder_dict\n",
    "\n",
    "def process_folders(root_folder):\n",
    "    folder_dicts = {}\n",
    "\n",
    "    for folder_name in os.listdir(root_folder):\n",
    "        folder_path = os.path.join(root_folder, folder_name)\n",
    "\n",
    "        if os.path.isdir(folder_path):\n",
    "            folder_dict = process_folder(folder_path)\n",
    "            folder_dicts[folder_name] = folder_dict\n",
    "\n",
    "    return folder_dicts"
   ]
  },
  {
   "cell_type": "code",
   "execution_count": 28,
   "metadata": {},
   "outputs": [
    {
     "data": {
      "text/plain": [
       "dict_keys(['2. Bundesliga', 'Big 5 combined', 'EFL Championship', 'Eredivisie', 'Jupiler Pro League', 'La Liga 2', 'Liga MX', 'Ligue 2', 'Primeira Liga', 'Serie B'])"
      ]
     },
     "execution_count": 28,
     "metadata": {},
     "output_type": "execute_result"
    }
   ],
   "source": [
    "dicts_europe = process_folders(input_dir_europe)\n",
    "dicts_europe.keys()"
   ]
  },
  {
   "cell_type": "code",
   "execution_count": 29,
   "metadata": {},
   "outputs": [
    {
     "data": {
      "text/plain": [
       "dict_keys(['Argentina Liga Profesional', 'Brazilian Serie A'])"
      ]
     },
     "execution_count": 29,
     "metadata": {},
     "output_type": "execute_result"
    }
   ],
   "source": [
    "dicts_sa = process_folders(input_dir_south_america)\n",
    "dicts_sa.keys()"
   ]
  },
  {
   "cell_type": "code",
   "execution_count": 40,
   "metadata": {},
   "outputs": [],
   "source": [
    "big_5_combined = dicts_europe[\"Big 5 combined\"]\n",
    "bundesliga_2 = dicts_europe[\"2. Bundesliga\"]\n",
    "efl_championship = dicts_europe[\"EFL Championship\"]\n",
    "eredivisie = dicts_europe[\"Eredivisie\"]\n",
    "jupiler = dicts_europe[\"Jupiler Pro League\"]\n",
    "laliga_2 = dicts_europe[\"La Liga 2\"]\n",
    "liga_mx = dicts_europe[\"Liga MX\"]\n",
    "ligue_2 = dicts_europe[\"Ligue 2\"]\n",
    "primeira_liga = dicts_europe[\"Primeira Liga\"]\n",
    "serie_b = dicts_europe[\"Serie B\"]\n",
    "brazil_serie_a = dicts_sa[\"Brazilian Serie A\"]\n",
    "argentina = dicts_sa[\"Argentina Liga Profesional\"]"
   ]
  },
  {
   "cell_type": "code",
   "execution_count": 41,
   "metadata": {},
   "outputs": [],
   "source": [
    "final_df = {}\n",
    "for i in range(len(big_5_combined)):\n",
    "    to_concat = []\n",
    "    to_concat.append(big_5_combined[i])\n",
    "    to_concat.append(bundesliga_2[i])\n",
    "    to_concat.append(efl_championship[i])\n",
    "    to_concat.append(eredivisie[i])\n",
    "    to_concat.append(jupiler[i])\n",
    "    to_concat.append(laliga_2[i])\n",
    "    to_concat.append(liga_mx[i])\n",
    "    to_concat.append(ligue_2[i])\n",
    "    to_concat.append(primeira_liga[i])\n",
    "    to_concat.append(serie_b[i])\n",
    "    to_concat.append(brazil_serie_a[i])\n",
    "    to_concat.append(argentina[i])\n",
    "    final_df[PLAYERS_DICT[i]] = pd.concat(to_concat, axis=0)\n",
    "\n"
   ]
  },
  {
   "cell_type": "code",
   "execution_count": 47,
   "metadata": {},
   "outputs": [],
   "source": [
    "output_dir = os.path.join(ENGINEERED_DIR, '2023', 'players_stats')\n",
    "if not os.path.exists(output_dir):\n",
    "    os.mkdir(output_dir)\n",
    "\n",
    "for key, val in final_df.items():\n",
    "    file_path = os.path.join(output_dir, key + \".csv\")\n",
    "    val.to_csv(file_path, index=False)"
   ]
  },
  {
   "cell_type": "code",
   "execution_count": null,
   "metadata": {},
   "outputs": [],
   "source": [
    "SEASON_DIR = os.path.join(ENGINEERED_DIR, '2023')\n",
    "PLAYERS_DIR = os.path.join(SEASON_DIR, 'players_stats')"
   ]
  },
  {
   "cell_type": "code",
   "execution_count": null,
   "metadata": {},
   "outputs": [],
   "source": [
    "stats_df = {}\n",
    "\n",
    "for f in os.listdir(PLAYERS_DIR):\n",
    "    filepath = os.path.join(PLAYERS_DIR, f)\n",
    "    df = pd.read_csv(filepath)\n",
    "    stats_df[f.split('.')[0]] = df\n",
    "\n",
    "stats_df"
   ]
  },
  {
   "cell_type": "code",
   "execution_count": null,
   "metadata": {},
   "outputs": [],
   "source": [
    "PLAYERS_DICT = [\n",
    "        \"standard\",\n",
    "        \"defensive\",\n",
    "        \"goal and shot creation\",   \n",
    "        \"misc\",\n",
    "        \"pass types\",\n",
    "        \"passing\",\n",
    "        \"playing time\",\n",
    "        \"possession\",\n",
    "        \"shooting\",\n",
    "        \"advanced goalkeeping\",\n",
    "        \"goalkeeping\",\n",
    "]\n",
    "\n",
    "standard = stats_df[PLAYERS_DICT[0]]\n",
    "defensive = stats_df[PLAYERS_DICT[1]]\n",
    "goal = stats_df[PLAYERS_DICT[2]]\n",
    "misc = stats_df[PLAYERS_DICT[3]]\n",
    "pass_types = stats_df[PLAYERS_DICT[4]]\n",
    "passing = stats_df[PLAYERS_DICT[5]]\n",
    "playing_time = stats_df[PLAYERS_DICT[6]]\n",
    "possession = stats_df[PLAYERS_DICT[7]]\n",
    "shooting = stats_df[PLAYERS_DICT[8]]\n",
    "adv_goalkeeper = stats_df[PLAYERS_DICT[9]]\n",
    "goalkeeper = stats_df[PLAYERS_DICT[10]]"
   ]
  },
  {
   "cell_type": "code",
   "execution_count": null,
   "metadata": {},
   "outputs": [],
   "source": [
    "def join_dfs(left: pd.DataFrame, right: pd.DataFrame):\n",
    "    columns_to_filter = list(right.columns.difference(left.columns))\n",
    "    columns_to_filter.append('Player ID_')\n",
    "    r = right.filter(columns_to_filter).copy()\n",
    "    return pd.merge(left=left, right=r, how=\"left\", on=\"Player ID_\")"
   ]
  },
  {
   "cell_type": "code",
   "execution_count": null,
   "metadata": {},
   "outputs": [],
   "source": [
    "df_1 = join_dfs(standard, defensive)\n",
    "df_2 = join_dfs(df_1, goal)\n",
    "df_3 = join_dfs(df_2, misc)\n",
    "df_4 = join_dfs(df_3, pass_types)\n",
    "df_5 = join_dfs(df_4, passing)\n",
    "df_6 = join_dfs(df_5, playing_time)\n",
    "df_7 = join_dfs(df_6, possession)\n",
    "df_8 = join_dfs(df_7, shooting)\n",
    "df_9 = join_dfs(df_8, adv_goalkeeper)\n",
    "final_df = join_dfs(df_9, goalkeeper)\n",
    "final_df.drop_duplicates(inplace=True)"
   ]
  },
  {
   "cell_type": "code",
   "execution_count": null,
   "metadata": {},
   "outputs": [],
   "source": [
    "final_df.to_parquet(os.path.join(PLAYERS_DIR, 'merged_df.parquet'), index=False)"
   ]
  }
 ],
 "metadata": {
  "kernelspec": {
   "display_name": "base",
   "language": "python",
   "name": "python3"
  },
  "language_info": {
   "codemirror_mode": {
    "name": "ipython",
    "version": 3
   },
   "file_extension": ".py",
   "mimetype": "text/x-python",
   "name": "python",
   "nbconvert_exporter": "python",
   "pygments_lexer": "ipython3",
   "version": "3.11.5"
  }
 },
 "nbformat": 4,
 "nbformat_minor": 2
}
