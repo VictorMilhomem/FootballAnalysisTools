{
 "cells": [
  {
   "cell_type": "code",
   "execution_count": 4,
   "metadata": {},
   "outputs": [],
   "source": [
    "import os\n",
    "from whoscored import *"
   ]
  },
  {
   "cell_type": "code",
   "execution_count": 5,
   "metadata": {},
   "outputs": [],
   "source": [
    "matches_url ={\n",
    "    38: 'https://www.whoscored.com/Matches/1716741/Live/Brazil-Brasileir%C3%A3o-2023-Fluminense-Gremio',\n",
    "    37: 'https://www.whoscored.com/Matches/1716781/Live/Brazil-Brasileir%C3%A3o-2023-Palmeiras-Fluminense',\n",
    "    36: 'https://www.whoscored.com/Matches/1716753/Live/Brazil-Brasileir%C3%A3o-2023-Santos-FC-Fluminense',\n",
    "    35: 'https://www.whoscored.com/Matches/1716769/Live/Brazil-Brasileir%C3%A3o-2023-Fluminense-Coritiba',\n",
    "    34: 'https://www.whoscored.com/Matches/1716814/Live/Brazil-Brasileir%C3%A3o-2023-Fluminense-Sao-Paulo',\n",
    "    33: 'https://www.whoscored.com/Matches/1716820/Live/Brazil-Brasileir%C3%A3o-2023-Flamengo-Fluminense',\n",
    "    32: 'https://www.whoscored.com/Matches/1716811/Live/Brazil-Brasileir%C3%A3o-2023-Internacional-Fluminense',\n",
    "    31: 'https://www.whoscored.com/Matches/1716733/Live/Brazil-Brasileir%C3%A3o-2023-Bahia-Fluminense',\n",
    "    30: 'https://www.whoscored.com/Matches/1716800/Live/Brazil-Brasileir%C3%A3o-2023-Atletico-MG-Fluminense',\n",
    "    29: 'https://www.whoscored.com/Matches/1716708/Live/Brazil-Brasileir%C3%A3o-2023-Fluminense-Goias',\n",
    "    28: 'https://www.whoscored.com/Matches/1716726/Live/Brazil-Brasileir%C3%A3o-2023-Red-Bull-Bragantino-Fluminense',\n",
    "    27: 'https://www.whoscored.com/Matches/1716856/Live/Brazil-Brasileir%C3%A3o-2023-Fluminense-Corinthians',\n",
    "    26: 'https://www.whoscored.com/Matches/1716707/Live/Brazil-Brasileir%C3%A3o-2023-Fluminense-Botafogo-RJ',\n",
    "    25: 'https://www.whoscored.com/Matches/1716706/Live/Brazil-Brasileir%C3%A3o-2023-Cuiaba-Fluminense',\n",
    "    24: 'https://www.whoscored.com/Matches/1716657/Live/Brazil-Brasileir%C3%A3o-2023-Fluminense-Cruzeiro',\n",
    "    23: 'https://www.whoscored.com/Matches/1716649/Live/Brazil-Brasileir%C3%A3o-2023-Vasco-da-Gama-Fluminense',\n",
    "    22: 'https://www.whoscored.com/Matches/1716829/Live/Brazil-Brasileir%C3%A3o-2023-Fluminense-Fortaleza',\n",
    "    21: 'https://www.whoscored.com/Matches/1716826/Live/Brazil-Brasileir%C3%A3o-2023-Athletico-Paranaense-Fluminense',\n",
    "    20: 'https://www.whoscored.com/Matches/1716673/Live/Brazil-Brasileir%C3%A3o-2023-Fluminense-America-MG',\n",
    "    19: 'https://www.whoscored.com/Matches/1716668/Live/Brazil-Brasileir%C3%A3o-2023-Gremio-Fluminense',\n",
    "    18: 'https://www.whoscored.com/Matches/1716872/Live/Brazil-Brasileir%C3%A3o-2023-Fluminense-Palmeiras',\n",
    "    17: 'https://www.whoscored.com/Matches/1716654/Live/Brazil-Brasileir%C3%A3o-2023-Fluminense-Santos-FC',\n",
    "    16: 'https://www.whoscored.com/Matches/1716660/Live/Brazil-Brasileir%C3%A3o-2023-Coritiba-Fluminense',\n",
    "    15: 'https://www.whoscored.com/Matches/1716895/Live/Brazil-Brasileir%C3%A3o-2023-Fluminense-Flamengo',\n",
    "    14:'https://www.whoscored.com/Matches/1716879/Live/Brazil-Brasileir%C3%A3o-2023-Fluminense-Internacional',\n",
    "    13: 'https://www.whoscored.com/Matches/1716883/Live/Brazil-Brasileir%C3%A3o-2023-Sao-Paulo-Fluminense',\n",
    "    12:'https://www.whoscored.com/Matches/1716615/Live/Brazil-Brasileir%C3%A3o-2023-Fluminense-Bahia',\n",
    "    11: 'https://www.whoscored.com/Matches/1716593/Live/Brazil-Brasileir%C3%A3o-2023-Fluminense-Atletico-MG',\n",
    "    10: 'https://www.whoscored.com/Matches/1716937/Live/Brazil-Brasileir%C3%A3o-2023-Goias-Fluminense',\n",
    "    9: 'https://www.whoscored.com/Matches/1716641/Live/Brazil-Brasileir%C3%A3o-2023-Fluminense-Red-Bull-Bragantino',\n",
    "    8: 'https://www.whoscored.com/Matches/1716955/Live/Brazil-Brasileir%C3%A3o-2023-Corinthians-Fluminense',\n",
    "    7: 'https://www.whoscored.com/Matches/1716574/Live/Brazil-Brasileir%C3%A3o-2023-Botafogo-RJ-Fluminense',\n",
    "    6: 'https://www.whoscored.com/Matches/1716919/Live/Brazil-Brasileir%C3%A3o-2023-Fluminense-Cuiaba',\n",
    "    5: 'https://www.whoscored.com/Matches/1716627/Live/Brazil-Brasileir%C3%A3o-2023-Cruzeiro-Fluminense',\n",
    "    4: 'https://www.whoscored.com/Matches/1716630/Live/Brazil-Brasileir%C3%A3o-2023-Fluminense-Vasco-da-Gama',\n",
    "    3: 'https://www.whoscored.com/Matches/1716632/Live/Brazil-Brasileir%C3%A3o-2023-Fortaleza-Fluminense',\n",
    "    2: 'https://www.whoscored.com/Matches/1716549/Live/Brazil-Brasileir%C3%A3o-2023-Fluminense-Athletico-Paranaense',\n",
    "    1: 'https://www.whoscored.com/Matches/1716550/Live/Brazil-Brasileir%C3%A3o-2023-America-MG-Fluminense'\n",
    "}"
   ]
  },
  {
   "cell_type": "code",
   "execution_count": 6,
   "metadata": {},
   "outputs": [],
   "source": [
    "BASE_DIR = os.path.join('..', 'data')\n",
    "ENGINEERED_DIR = os.path.join(BASE_DIR, 'engineered')\n",
    "SEASON_DIR = os.path.join(ENGINEERED_DIR, '2023')\n",
    "MATCHES_DIR = os.path.join(SEASON_DIR, 'matches')\n",
    "\n",
    "if not os.path.exists(BASE_DIR):\n",
    "    os.mkdir(BASE_DIR)\n",
    "if not os.path.exists(ENGINEERED_DIR):\n",
    "    os.mkdir(ENGINEERED_DIR)\n",
    "if not os.path.exists(SEASON_DIR):\n",
    "    os.mkdir(SEASON_DIR)\n",
    "if not os.path.exists(MATCHES_DIR):\n",
    "    os.mkdir(MATCHES_DIR)\n",
    "\n",
    "\n",
    "get_json_data(matches_url, MATCHES_DIR)\n"
   ]
  },
  {
   "cell_type": "code",
   "execution_count": null,
   "metadata": {},
   "outputs": [],
   "source": []
  }
 ],
 "metadata": {
  "kernelspec": {
   "display_name": "base",
   "language": "python",
   "name": "python3"
  },
  "language_info": {
   "codemirror_mode": {
    "name": "ipython",
    "version": 3
   },
   "file_extension": ".py",
   "mimetype": "text/x-python",
   "name": "python",
   "nbconvert_exporter": "python",
   "pygments_lexer": "ipython3",
   "version": "3.11.5"
  }
 },
 "nbformat": 4,
 "nbformat_minor": 2
}
