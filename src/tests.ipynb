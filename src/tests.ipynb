{
 "cells": [
  {
   "cell_type": "code",
   "execution_count": 69,
   "metadata": {},
   "outputs": [],
   "source": [
    "import pandas as pd\n",
    "from utils import *\n",
    "import requests\n",
    "from bs4 import BeautifulSoup"
   ]
  },
  {
   "cell_type": "code",
   "execution_count": 70,
   "metadata": {},
   "outputs": [],
   "source": [
    "BASE_DIR = os.path.join('..', 'data')\n",
    "ENGINEERED_DIR = os.path.join(BASE_DIR, 'engineered')\n",
    "SEASON_DIR = os.path.join(ENGINEERED_DIR, '2023')\n",
    "MATCHES_DIR = os.path.join(SEASON_DIR, 'matches')"
   ]
  },
  {
   "cell_type": "code",
   "execution_count": 71,
   "metadata": {},
   "outputs": [],
   "source": [
    "headers = {\n",
    "    'authority': 'www.transfermarkt.com.br',\n",
    "    'accept': '*/*',\n",
    "    'accept-language': 'pt-BR,pt;q=0.9',\n",
    "    # 'cookie': '_tmlpu=5; _sp_v1_ss=1:H4sIAAAAAAAAAItWqo5RKimOUbKKhjHySnNydGKUUpHYJWCJ6traWFwSSjqYBmFn5IEYBrhNoqKEUiwAqTzxSd8AAAA%3D; _sp_v1_p=875; _sp_v1_data=746454; _sp_su=false; euconsent-v2=CP3wTQAP3wTQAAGABCENAeEsAP_gAEPAAAKIJDgBdDJECCFAIXBaAOsQKIEVUVABAEAAAAABACABQAAAIAQCkAAIAACAAigAARAAIEQAAAAAAAAABAAAAIAAIAEEAAAQgAAIIAAAAAAAAABAAAAIAAAAQAAAgAABAAQAkACIAAIAUEAAAAACAAAQAIgAAIAAAgAAAAAAAAAAAAIIICgAAAAAAAAAAAACABAAAAAIH7wEQAFAAOAEUAI4AcgBCACIgE7ALEAXUA14B2wF0AMEAZCAyYB-4BoSAqABUADgAIAAZAA0ACIAEwAJ4AZgA3gB6AD8AIQAQwAmgBlAD9AKeAo8BeYDJAoAIARQC6A0AEAp46A4ABUADgAIAAZAA0ACIAEwAJ8AXABdADEAGYAN4AegA_ACGAE0AMoAfoBFgCngFiAReAo8BVgC8wGSAMsAcWPAAgCKEQAQCnkIBAATAAuABiADeAHoARwBTwFWEAAIA5CUAsADgARAAmABcADEAIYAp4CLwFHgLzAZISAAgMsLQAgBHAKsKQFAAKgAcABAADQAIgATAAngBiADMAH4AQwAygB-gEWAPaAi8BVgC8wGSAMsKAAwAZADkAJO.YAAAAAAAAAAA; consentUUID=2b918714-7bff-40b6-a4c8-bf4579a973a0_27; TMSESSID=79a54446e857d26e9f36f18f3b796cca',\n",
    "    'if-modified-since': 'Tue, 02 Jan 2024 23:03:39 GMT',\n",
    "    'referer': 'https://www.transfermarkt.com.br/john-kennedy/profil/spieler/856085',\n",
    "    'sec-ch-ua': '\"Not_A Brand\";v=\"8\", \"Chromium\";v=\"120\", \"Brave\";v=\"120\"',\n",
    "    'sec-ch-ua-mobile': '?0',\n",
    "    'sec-ch-ua-platform': '\"Windows\"',\n",
    "    'sec-fetch-dest': 'empty',\n",
    "    'sec-fetch-mode': 'cors',\n",
    "    'sec-fetch-site': 'same-origin',\n",
    "    'sec-gpc': '1',\n",
    "    'user-agent': 'Mozilla/5.0 (Windows NT 10.0; Win64; x64) AppleWebKit/537.36 (KHTML, like Gecko) Chrome/120.0.0.0 Safari/537.36',\n",
    "}\n",
    "\n",
    "response = requests.get('https://www.transfermarkt.com.br/ceapi/player/856085/images', headers=headers)"
   ]
  },
  {
   "cell_type": "code",
   "execution_count": 72,
   "metadata": {},
   "outputs": [
    {
     "data": {
      "text/plain": [
       "b'[{\"url\":\"https:\\\\/\\\\/tmssl.akamaized.net\\\\/images\\\\/foto\\\\/galerie\\\\/marcelo-john-kennedy-fluminense-2023-1702931218-124310.jpg?lm=1702931233\",\"source\":\"IMAGO\"},{\"url\":\"https:\\\\/\\\\/tmssl.akamaized.net\\\\/images\\\\/foto\\\\/galerie\\\\/john-kennedy-fluminense-2023-1702046429-123532.jpg?lm=1702046451\",\"source\":\"IMAGO\"},{\"url\":\"https:\\\\/\\\\/tmssl.akamaized.net\\\\/images\\\\/foto\\\\/galerie\\\\/john-kennedy-fluminense-1623767807-65254.jpg?lm=1623767821\",\"source\":\"IMAGO\"}]'"
      ]
     },
     "execution_count": 72,
     "metadata": {},
     "output_type": "execute_result"
    }
   ],
   "source": [
    "response.content"
   ]
  },
  {
   "cell_type": "code",
   "execution_count": 73,
   "metadata": {},
   "outputs": [
    {
     "data": {
      "text/plain": [
       "'[{\"url\":\"https:\\\\/\\\\/tmssl.akamaized.net\\\\/images\\\\/foto\\\\/galerie\\\\/marcelo-john-kennedy-fluminense-2023-1702931218-124310.jpg?lm=1702931233\",\"source\":\"IMAGO\"},{\"url\":\"https:\\\\/\\\\/tmssl.akamaized.net\\\\/images\\\\/foto\\\\/galerie\\\\/john-kennedy-fluminense-2023-1702046429-123532.jpg?lm=1702046451\",\"source\":\"IMAGO\"},{\"url\":\"https:\\\\/\\\\/tmssl.akamaized.net\\\\/images\\\\/foto\\\\/galerie\\\\/john-kennedy-fluminense-1623767807-65254.jpg?lm=1623767821\",\"source\":\"IMAGO\"}]'"
      ]
     },
     "execution_count": 73,
     "metadata": {},
     "output_type": "execute_result"
    }
   ],
   "source": [
    "soup = BeautifulSoup(response.content, \"html.parser\")\n",
    "soup.text"
   ]
  },
  {
   "cell_type": "code",
   "execution_count": 74,
   "metadata": {},
   "outputs": [
    {
     "name": "stdout",
     "output_type": "stream",
     "text": [
      "tmssl.akamaized.net\\/images\\/foto\\/galerie\\/marcelo-john-kennedy-fluminense-2023-1702931218-124310.jpg?lm=1702931233\n",
      "tmssl.akamaized.net\\/images\\/foto\\/galerie\\/john-kennedy-fluminense-2023-1702046429-123532.jpg?lm=1702046451\n",
      "tmssl.akamaized.net\\/images\\/foto\\/galerie\\/john-kennedy-fluminense-1623767807-65254.jpg?lm=1623767821\n"
     ]
    }
   ],
   "source": [
    "import re\n",
    "\n",
    "links = re.findall(r\"https:\\\\*/\\\\*/(.*?)\\\"\", soup.text)\n",
    "for link in links:\n",
    "    print(link)"
   ]
  },
  {
   "cell_type": "code",
   "execution_count": 65,
   "metadata": {},
   "outputs": [
    {
     "data": {
      "text/plain": [
       "b'{\"list\":[{\"x\":1612825200000,\"y\":500000,\"mw\":\"500 mil \\\\u20ac\",\"datum_mw\":\"09\\\\/02\\\\/2021\",\"verein\":\"Fluminense FC\",\"age\":\"18\",\"wappen\":\"https:\\\\/\\\\/tmssl.akamaized.net\\\\/images\\\\/wappen\\\\/profil\\\\/2462.png?lm=1648225934\"},{\"x\":1622152800000,\"y\":500000,\"mw\":\"500 mil \\\\u20ac\",\"datum_mw\":\"28\\\\/05\\\\/2021\",\"verein\":\"Fluminense FC\",\"age\":\"19\",\"wappen\":\"\"},{\"x\":1639695600000,\"y\":1800000,\"mw\":\"1,80 mi. \\\\u20ac\",\"datum_mw\":\"17\\\\/12\\\\/2021\",\"verein\":\"Fluminense FC\",\"age\":\"19\",\"wappen\":\"\"},{\"x\":1649196000000,\"y\":3000000,\"mw\":\"3,00 mi. \\\\u20ac\",\"datum_mw\":\"06\\\\/04\\\\/2022\",\"verein\":\"Fluminense FC\",\"age\":\"19\",\"wappen\":\"\"},{\"x\":1660860000000,\"y\":3000000,\"mw\":\"3,00 mi. \\\\u20ac\",\"datum_mw\":\"19\\\\/08\\\\/2022\",\"verein\":\"Fluminense FC\",\"age\":\"20\",\"wappen\":\"\"},{\"x\":1668380400000,\"y\":3000000,\"mw\":\"3,00 mi. \\\\u20ac\",\"datum_mw\":\"14\\\\/11\\\\/2022\",\"verein\":\"Fluminense FC\",\"age\":\"20\",\"wappen\":\"\"},{\"x\":1680818400000,\"y\":4000000,\"mw\":\"4,00 mi. \\\\u20ac\",\"datum_mw\":\"07\\\\/04\\\\/2023\",\"verein\":\"Fluminense FC\",\"age\":\"20\",\"wappen\":\"\"},{\"x\":1690236000000,\"y\":4000000,\"mw\":\"4,00 mi. \\\\u20ac\",\"datum_mw\":\"25\\\\/07\\\\/2023\",\"verein\":\"Fluminense FC\",\"age\":\"21\",\"wappen\":\"\"},{\"x\":1702249200000,\"y\":7000000,\"mw\":\"7,00 mi. \\\\u20ac\",\"datum_mw\":\"11\\\\/12\\\\/2023\",\"verein\":\"Fluminense FC\",\"age\":\"21\",\"wappen\":\"https:\\\\/\\\\/tmssl.akamaized.net\\\\/images\\\\/wappen\\\\/profil\\\\/2462.png?lm=1648225934\"}],\"current\":\"7,00 mi. \\\\u20ac\",\"highest\":\"7,00 mi. \\\\u20ac\",\"highest_date\":\"11\\\\/12\\\\/2023\",\"last_change\":\"11\\\\/12\\\\/2023\",\"details_url\":\"\\\\/john-kennedy\\\\/marktwertverlauf\\\\/spieler\\\\/856085\",\"thread\":{\"url\":\"https:\\\\/\\\\/www.transfermarkt.com.br\\\\/john-kennedy-7-mi-euro-fluminense-fc-\\\\/thread\\\\/forum\\\\/610\\\\/thread_id\\\\/1415\",\"thread_title\":\"John Kennedy (7 Mi. \\\\u20ac, Fluminense FC)\",\"count_replies\":\"1\"},\"translations\":{\"market value\":\"Valor de mercado\",\"team\":\"Clube\",\"age\":\"Idade\",\"resetZoom\":\"Vollansicht\",\"current\":\"Valor de mercado atual\",\"highest\":\"VDM mais alto\",\"thread\":\"Dar opini\\\\u00e3o sobre o valor de mercado\",\"forum\":\"F\\\\u00f3rum\",\"details\":\"Evolu\\\\u00e7\\\\u00e3o do valor de mercado e tabelas\",\"headline\":\"Desenvolvimento do valor de mercado\",\"lastChange\":\"\\\\u00daltima altera\\\\u00e7\\\\u00e3o\"}}'"
      ]
     },
     "execution_count": 65,
     "metadata": {},
     "output_type": "execute_result"
    }
   ],
   "source": [
    "headers = {\n",
    "    'authority': 'www.transfermarkt.com.br',\n",
    "    'accept': '*/*',\n",
    "    'accept-language': 'pt-BR,pt;q=0.9',\n",
    "    # 'cookie': '_tmlpu=5; _sp_v1_ss=1:H4sIAAAAAAAAAItWqo5RKimOUbKKhjHySnNydGKUUpHYJWCJ6traWFwSSjqYBmFn5IEYBrhNoqKEUiwAqTzxSd8AAAA%3D; _sp_v1_p=875; _sp_v1_data=746454; _sp_su=false; euconsent-v2=CP3wTQAP3wTQAAGABCENAeEsAP_gAEPAAAKIJDgBdDJECCFAIXBaAOsQKIEVUVABAEAAAAABACABQAAAIAQCkAAIAACAAigAARAAIEQAAAAAAAAABAAAAIAAIAEEAAAQgAAIIAAAAAAAAABAAAAIAAAAQAAAgAABAAQAkACIAAIAUEAAAAACAAAQAIgAAIAAAgAAAAAAAAAAAAIIICgAAAAAAAAAAAACABAAAAAIH7wEQAFAAOAEUAI4AcgBCACIgE7ALEAXUA14B2wF0AMEAZCAyYB-4BoSAqABUADgAIAAZAA0ACIAEwAJ4AZgA3gB6AD8AIQAQwAmgBlAD9AKeAo8BeYDJAoAIARQC6A0AEAp46A4ABUADgAIAAZAA0ACIAEwAJ8AXABdADEAGYAN4AegA_ACGAE0AMoAfoBFgCngFiAReAo8BVgC8wGSAMsAcWPAAgCKEQAQCnkIBAATAAuABiADeAHoARwBTwFWEAAIA5CUAsADgARAAmABcADEAIYAp4CLwFHgLzAZISAAgMsLQAgBHAKsKQFAAKgAcABAADQAIgATAAngBiADMAH4AQwAygB-gEWAPaAi8BVgC8wGSAMsKAAwAZADkAJO.YAAAAAAAAAAA; consentUUID=2b918714-7bff-40b6-a4c8-bf4579a973a0_27; TMSESSID=79a54446e857d26e9f36f18f3b796cca',\n",
    "    'if-modified-since': 'Tue, 02 Jan 2024 23:03:23 GMT',\n",
    "    'referer': 'https://www.transfermarkt.com.br/john-kennedy/profil/spieler/856085',\n",
    "    'sec-ch-ua': '\"Not_A Brand\";v=\"8\", \"Chromium\";v=\"120\", \"Brave\";v=\"120\"',\n",
    "    'sec-ch-ua-mobile': '?0',\n",
    "    'sec-ch-ua-platform': '\"Windows\"',\n",
    "    'sec-fetch-dest': 'empty',\n",
    "    'sec-fetch-mode': 'cors',\n",
    "    'sec-fetch-site': 'same-origin',\n",
    "    'sec-gpc': '1',\n",
    "    'user-agent': 'Mozilla/5.0 (Windows NT 10.0; Win64; x64) AppleWebKit/537.36 (KHTML, like Gecko) Chrome/120.0.0.0 Safari/537.36',\n",
    "}\n",
    "\n",
    "response = requests.get(\n",
    "    'https://www.transfermarkt.com.br/ceapi/marketValueDevelopment/graph/856085',\n",
    "    headers=headers,\n",
    ")\n",
    "\n",
    "response.content"
   ]
  },
  {
   "cell_type": "code",
   "execution_count": 67,
   "metadata": {},
   "outputs": [
    {
     "data": {
      "text/plain": [
       "dict_keys(['list', 'current', 'highest', 'highest_date', 'last_change', 'details_url', 'thread', 'translations'])"
      ]
     },
     "execution_count": 67,
     "metadata": {},
     "output_type": "execute_result"
    }
   ],
   "source": [
    "response.json().keys()"
   ]
  },
  {
   "cell_type": "code",
   "execution_count": 68,
   "metadata": {},
   "outputs": [
    {
     "data": {
      "text/plain": [
       "[{'x': 1612825200000,\n",
       "  'y': 500000,\n",
       "  'mw': '500 mil €',\n",
       "  'datum_mw': '09/02/2021',\n",
       "  'verein': 'Fluminense FC',\n",
       "  'age': '18',\n",
       "  'wappen': 'https://tmssl.akamaized.net/images/wappen/profil/2462.png?lm=1648225934'},\n",
       " {'x': 1622152800000,\n",
       "  'y': 500000,\n",
       "  'mw': '500 mil €',\n",
       "  'datum_mw': '28/05/2021',\n",
       "  'verein': 'Fluminense FC',\n",
       "  'age': '19',\n",
       "  'wappen': ''},\n",
       " {'x': 1639695600000,\n",
       "  'y': 1800000,\n",
       "  'mw': '1,80 mi. €',\n",
       "  'datum_mw': '17/12/2021',\n",
       "  'verein': 'Fluminense FC',\n",
       "  'age': '19',\n",
       "  'wappen': ''},\n",
       " {'x': 1649196000000,\n",
       "  'y': 3000000,\n",
       "  'mw': '3,00 mi. €',\n",
       "  'datum_mw': '06/04/2022',\n",
       "  'verein': 'Fluminense FC',\n",
       "  'age': '19',\n",
       "  'wappen': ''},\n",
       " {'x': 1660860000000,\n",
       "  'y': 3000000,\n",
       "  'mw': '3,00 mi. €',\n",
       "  'datum_mw': '19/08/2022',\n",
       "  'verein': 'Fluminense FC',\n",
       "  'age': '20',\n",
       "  'wappen': ''},\n",
       " {'x': 1668380400000,\n",
       "  'y': 3000000,\n",
       "  'mw': '3,00 mi. €',\n",
       "  'datum_mw': '14/11/2022',\n",
       "  'verein': 'Fluminense FC',\n",
       "  'age': '20',\n",
       "  'wappen': ''},\n",
       " {'x': 1680818400000,\n",
       "  'y': 4000000,\n",
       "  'mw': '4,00 mi. €',\n",
       "  'datum_mw': '07/04/2023',\n",
       "  'verein': 'Fluminense FC',\n",
       "  'age': '20',\n",
       "  'wappen': ''},\n",
       " {'x': 1690236000000,\n",
       "  'y': 4000000,\n",
       "  'mw': '4,00 mi. €',\n",
       "  'datum_mw': '25/07/2023',\n",
       "  'verein': 'Fluminense FC',\n",
       "  'age': '21',\n",
       "  'wappen': ''},\n",
       " {'x': 1702249200000,\n",
       "  'y': 7000000,\n",
       "  'mw': '7,00 mi. €',\n",
       "  'datum_mw': '11/12/2023',\n",
       "  'verein': 'Fluminense FC',\n",
       "  'age': '21',\n",
       "  'wappen': 'https://tmssl.akamaized.net/images/wappen/profil/2462.png?lm=1648225934'}]"
      ]
     },
     "execution_count": 68,
     "metadata": {},
     "output_type": "execute_result"
    }
   ],
   "source": [
    "json = response.json()\n",
    "json['list']"
   ]
  },
  {
   "cell_type": "code",
   "execution_count": null,
   "metadata": {},
   "outputs": [],
   "source": []
  }
 ],
 "metadata": {
  "kernelspec": {
   "display_name": "base",
   "language": "python",
   "name": "python3"
  },
  "language_info": {
   "codemirror_mode": {
    "name": "ipython",
    "version": 3
   },
   "file_extension": ".py",
   "mimetype": "text/x-python",
   "name": "python",
   "nbconvert_exporter": "python",
   "pygments_lexer": "ipython3",
   "version": "3.11.5"
  }
 },
 "nbformat": 4,
 "nbformat_minor": 2
}
