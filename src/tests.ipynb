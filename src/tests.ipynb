{
 "cells": [
  {
   "cell_type": "code",
   "execution_count": 1,
   "metadata": {},
   "outputs": [],
   "source": [
    "from whoscored import *\n",
    "import json\n",
    "import pandas as pd\n",
    "from utils import *"
   ]
  },
  {
   "cell_type": "code",
   "execution_count": 2,
   "metadata": {},
   "outputs": [],
   "source": [
    "BASE_DIR = os.path.join('..', 'data')\n",
    "ENGINEERED_DIR = os.path.join(BASE_DIR, 'engineered')\n",
    "SEASON_DIR = os.path.join(ENGINEERED_DIR, '2023')\n",
    "MATCHES_DIR = os.path.join(SEASON_DIR, 'matches')"
   ]
  },
  {
   "cell_type": "code",
   "execution_count": 3,
   "metadata": {},
   "outputs": [],
   "source": [
    "round_match = 9\n",
    "data = get_data(round_match, MATCHES_DIR)\n",
    "events_dict, players_df, teams_dict = extract_data_from_dict(data)\n",
    "events_df = get_event_type_df(events_dict)\n",
    "\n",
    "\n",
    "home_team_id = list(teams_dict.keys())[0]  # selected home team"
   ]
  },
  {
   "cell_type": "code",
   "execution_count": 9,
   "metadata": {},
   "outputs": [
    {
     "data": {
      "text/plain": [
       "array(['Start', 'Pass', 'Aerial', 'BallTouch', 'BallRecovery',\n",
       "       'Challenge', 'TakeOn', 'Clearance', 'CornerAwarded', 'Foul',\n",
       "       'Tackle', 'BlockedPass', 'ShieldBallOpp', 'Card', 'SavedShot',\n",
       "       'Save', 'MissedShots', 'KeeperPickup', 'Dispossessed',\n",
       "       'Interception', 'Punch', 'Claim', 'GoodSkill', 'Goal',\n",
       "       'SubstitutionOff', 'SubstitutionOn', 'ShotOnPost', 'OffsideGiven',\n",
       "       'OffsidePass', 'OffsideProvoked', 'End', 'FormationChange',\n",
       "       'FormationSet'], dtype=object)"
      ]
     },
     "execution_count": 9,
     "metadata": {},
     "output_type": "execute_result"
    }
   ],
   "source": [
    "events_df[\"eventType\"].unique()"
   ]
  },
  {
   "cell_type": "code",
   "execution_count": 7,
   "metadata": {},
   "outputs": [
    {
     "data": {
      "text/plain": [
       "[{'type': {'value': 141, 'displayName': 'PassEndY'}, 'value': '44.1'},\n",
       " {'type': {'value': 56, 'displayName': 'Zone'}, 'value': 'Back'},\n",
       " {'type': {'value': 140, 'displayName': 'PassEndX'}, 'value': '38.2'},\n",
       " {'type': {'value': 178, 'displayName': 'StandingSave'}},\n",
       " {'type': {'value': 213, 'displayName': 'Angle'}, 'value': '3.44'},\n",
       " {'type': {'value': 212, 'displayName': 'Length'}, 'value': '13.1'}]"
      ]
     },
     "execution_count": 7,
     "metadata": {},
     "output_type": "execute_result"
    }
   ],
   "source": [
    "passes_df = events_df.loc[events_df['eventType'] == \"Pass\"].reset_index(drop=True)\n",
    "passes_df['qualifiers'].loc[0]"
   ]
  },
  {
   "cell_type": "code",
   "execution_count": 8,
   "metadata": {},
   "outputs": [
    {
     "data": {
      "text/plain": [
       "id                                                           2558493573.0\n",
       "eventId                                                                 3\n",
       "minute                                                                  0\n",
       "second                                                                0.0\n",
       "teamId                                                               1232\n",
       "x                                                                    50.1\n",
       "y                                                                    49.7\n",
       "expandedMinute                                                          0\n",
       "outcomeType                                                    Successful\n",
       "qualifiers              [{'type': {'value': 141, 'displayName': 'PassE...\n",
       "satisfiedEventsTypes                      [91, 117, 30, 35, 38, 216, 218]\n",
       "isTouch                                                              True\n",
       "playerId                                                         397899.0\n",
       "endX                                                                 38.2\n",
       "endY                                                                 44.1\n",
       "cardType                                                              NaN\n",
       "relatedEventId                                                        NaN\n",
       "relatedPlayerId                                                       NaN\n",
       "blockedX                                                              NaN\n",
       "blockedY                                                              NaN\n",
       "goalMouthZ                                                            NaN\n",
       "goalMouthY                                                            NaN\n",
       "isShot                                                                NaN\n",
       "isGoal                                                                NaN\n",
       "eventType                                                            Pass\n",
       "match_period                                                    FirstHalf\n",
       "Name: 0, dtype: object"
      ]
     },
     "execution_count": 8,
     "metadata": {},
     "output_type": "execute_result"
    }
   ],
   "source": [
    "passes_df.loc[0]"
   ]
  },
  {
   "cell_type": "code",
   "execution_count": null,
   "metadata": {},
   "outputs": [],
   "source": []
  }
 ],
 "metadata": {
  "kernelspec": {
   "display_name": "base",
   "language": "python",
   "name": "python3"
  },
  "language_info": {
   "codemirror_mode": {
    "name": "ipython",
    "version": 3
   },
   "file_extension": ".py",
   "mimetype": "text/x-python",
   "name": "python",
   "nbconvert_exporter": "python",
   "pygments_lexer": "ipython3",
   "version": "3.11.5"
  }
 },
 "nbformat": 4,
 "nbformat_minor": 2
}
