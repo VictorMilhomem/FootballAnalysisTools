{
 "cells": [
  {
   "cell_type": "code",
   "execution_count": null,
   "metadata": {},
   "outputs": [],
   "source": [
    "from whoscored import *\n",
    "import json"
   ]
  },
  {
   "cell_type": "code",
   "execution_count": null,
   "metadata": {},
   "outputs": [],
   "source": [
    "BASE_DIR = os.path.join('..', 'data')\n",
    "ENGINEERED_DIR = os.path.join(BASE_DIR, 'engineered')\n",
    "SEASON_DIR = os.path.join(ENGINEERED_DIR, '2023')\n",
    "MATCHES_DIR = os.path.join(SEASON_DIR, 'matches')\n",
    "\n",
    "def get_data(round_match):\n",
    "    data = None\n",
    "    filepath = os.path.join(MATCHES_DIR, str(round_match), f\"{round_match}_round.txt\")\n",
    "    with open(filepath, 'rt') as json_data_txt:\n",
    "        data = json.loads(json_data_txt.read())\n",
    "    return data"
   ]
  },
  {
   "cell_type": "code",
   "execution_count": null,
   "metadata": {},
   "outputs": [],
   "source": [
    "round_match = 9\n",
    "data = get_data(round_match)\n",
    "events_dict, players_df, teams_dict = extract_data_from_dict(data)\n",
    "passes_df = get_passes_df(events_dict)\n",
    "\n",
    "\n",
    "home_team_id = list(teams_dict.keys())[0]  # selected home team\n",
    "home_passes_between_df, home_average_locs_and_count_df = get_passes_between_df(home_team_id, passes_df, players_df)\n",
    "\n",
    "away_team_id = list(teams_dict.keys())[1]  # selected home team\n",
    "away_passes_between_df, away_average_locs_and_count_df = get_passes_between_df(away_team_id, passes_df, players_df)\n"
   ]
  }
 ],
 "metadata": {
  "language_info": {
   "name": "python"
  }
 },
 "nbformat": 4,
 "nbformat_minor": 2
}
